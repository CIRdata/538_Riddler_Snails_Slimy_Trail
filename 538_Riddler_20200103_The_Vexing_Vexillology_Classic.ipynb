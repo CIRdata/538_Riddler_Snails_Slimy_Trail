{
  "nbformat": 4,
  "nbformat_minor": 0,
  "metadata": {
    "colab": {
      "name": "538_Riddler_20200103_The_Vexing_Vexillology_Classic.ipynb",
      "provenance": [],
      "collapsed_sections": [],
      "include_colab_link": true
    },
    "kernelspec": {
      "name": "python3",
      "display_name": "Python 3"
    }
  },
  "cells": [
    {
      "cell_type": "markdown",
      "metadata": {
        "id": "view-in-github",
        "colab_type": "text"
      },
      "source": [
        "<a href=\"https://colab.research.google.com/github/CIRdata/538_Riddler_Submissions/blob/master/538_Riddler_20200103_The_Vexing_Vexillology_Classic.ipynb\" target=\"_parent\"><img src=\"https://colab.research.google.com/assets/colab-badge.svg\" alt=\"Open In Colab\"/></a>"
      ]
    },
    {
      "cell_type": "markdown",
      "metadata": {
        "id": "ElMhV55ByfYi",
        "colab_type": "text"
      },
      "source": [
        "The below is my subission for the Riddler Classic, published on 2020-01-03\n",
        "\n",
        "Result: top ngram is 'aeginrt' with centre leter r\n",
        "\n",
        "See: https://fivethirtyeight.com/features/can-you-solve-the-vexing-vexillology/\n",
        "\n",
        "From the website: \n",
        "\n",
        "    The New York Times recently launched some new word puzzles, one of which is Spelling Bee. In this game, seven letters are arranged in a honeycomb lattice, with one letter in the center. Here’s the lattice from December 24, 2019:\n",
        "\n",
        "\n",
        "    The goal is to identify as many words that meet the following criteria:\n",
        "\n",
        "      * The word must be at least four letters long.\n",
        "      * The word must include the central letter.\n",
        "      * The word cannot include any letter beyond the seven given letters.\n",
        "\n",
        "    Note that letters can be repeated. For example, the words GAME and AMALGAM are both acceptable words. Four-letter words are worth 1 point each, while five-letter words are worth 5 points, six-letter words are worth 6 points, seven-letter words are worth 7 points, etc. Words that use all of the seven letters in the honeycomb are known as “pangrams” and earn 7 bonus points (in addition to the points for the length of the word). So in the above example, MEGAPLEX is worth 15 points.\n",
        "\n",
        "    Which seven-letter honeycomb results in the highest possible game score? To be a valid choice of seven letters, no letter can be repeated, it must not contain the letter S (that would be too easy) and there must be at least one pangram.\n",
        "\n",
        "  For consistency, please use this word list to check your game score."
      ]
    },
    {
      "cell_type": "code",
      "metadata": {
        "id": "YRIYeJkh1HJs",
        "colab_type": "code",
        "colab": {}
      },
      "source": [
        "import urllib.request\n",
        "import pandas as pd\n",
        "import numpy as np"
      ],
      "execution_count": 0,
      "outputs": []
    },
    {
      "cell_type": "code",
      "metadata": {
        "id": "C__J_6Pl1bfp",
        "colab_type": "code",
        "colab": {}
      },
      "source": [
        "#get list of words\n",
        "url_wordlist = 'https://norvig.com/ngrams/enable1.txt'\n",
        "\n",
        "wordlist_obj = urllib.request.urlopen(url_wordlist)\n",
        "wordlist_str = wordlist_obj.read().decode(\"utf8\")\n",
        "wordlist_obj.close()\n",
        "wordlist = wordlist_str.splitlines()\n",
        "\n",
        "#filter out words too short and that contain the letter s\n",
        "wordlist = [x for x in wordlist if len(x)>3 and 's' not in x]\n",
        "\n",
        "#find all of the panagrams in the word list\n",
        "wordlist_distinct_letters = [''.join(sorted(set(x))) for x in wordlist]\n",
        "pangramlist = list(set([x for x in wordlist_distinct_letters if len(x)==7]))\n"
      ],
      "execution_count": 0,
      "outputs": []
    },
    {
      "cell_type": "code",
      "metadata": {
        "id": "ycBV2MWfIBHX",
        "colab_type": "code",
        "colab": {}
      },
      "source": [
        "def score(ngram, cent_ltr, testword):\n",
        "  c = len(testword)\n",
        "  score=0\n",
        "  if cent_ltr in testword:\n",
        "    if c == 4:\n",
        "      score=1\n",
        "    else:\n",
        "      score=c\n",
        "      if c>=7:\n",
        "        for l in ngram:\n",
        "          if l not in testword:\n",
        "            break\n",
        "        score=score+7\n",
        "    for l in testword:\n",
        "      if l not in ngram:\n",
        "        score=0\n",
        "        break\n",
        "  return score\n"
      ],
      "execution_count": 0,
      "outputs": []
    },
    {
      "cell_type": "code",
      "metadata": {
        "id": "bB18CdguJ22T",
        "colab_type": "code",
        "colab": {}
      },
      "source": [
        "top_score=0\n",
        "top_ngram = []\n",
        "top_cent_ltr = []\n",
        "\n",
        "for ngram in pangramlist:\n",
        "  for cent_ltr in ngram:\n",
        "    test_score = 0\n",
        "    for testword in wordlist:\n",
        "      test_score = score(ngram, cent_ltr, testword)+test_score\n",
        "    if test_score > top_score:\n",
        "      top_ngram = []\n",
        "      top_cent_ltr = []\n",
        "      top_score = test_score\n",
        "      top_ngram.append(ngram)\n",
        "      top_cent_ltr.append(cent_ltr)\n",
        "    elif test_score == top_score:\n",
        "      top_ngram.append(ngram)\n",
        "      top_cent_ltr.append(cent_ltr)\n",
        "          "
      ],
      "execution_count": 0,
      "outputs": []
    },
    {
      "cell_type": "code",
      "metadata": {
        "id": "4Meie9aITY5G",
        "colab_type": "code",
        "colab": {
          "base_uri": "https://localhost:8080/",
          "height": 34
        },
        "outputId": "9749bde0-3d2d-476d-9d83-30714fd66f43"
      },
      "source": [
        "print(top_score, top_ngram, top_cent_ltr)"
      ],
      "execution_count": 5,
      "outputs": [
        {
          "output_type": "stream",
          "text": [
            "5599 ['aeginrt'] ['r']\n"
          ],
          "name": "stdout"
        }
      ]
    }
  ]
}