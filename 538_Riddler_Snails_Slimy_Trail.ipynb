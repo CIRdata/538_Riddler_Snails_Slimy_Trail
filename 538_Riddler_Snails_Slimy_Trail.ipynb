{
  "nbformat": 4,
  "nbformat_minor": 0,
  "metadata": {
    "colab": {
      "name": "538_Riddler_Snails_Slimy_Trail.ipynb",
      "provenance": [],
      "include_colab_link": true
    },
    "kernelspec": {
      "name": "python3",
      "display_name": "Python 3"
    }
  },
  "cells": [
    {
      "cell_type": "markdown",
      "metadata": {
        "id": "view-in-github",
        "colab_type": "text"
      },
      "source": [
        "<a href=\"https://colab.research.google.com/github/CIRdata/538_Riddler_Snails_Slimy_Trail/blob/master/538_Riddler_Snails_Slimy_Trail.ipynb\" target=\"_parent\"><img src=\"https://colab.research.google.com/assets/colab-badge.svg\" alt=\"Open In Colab\"/></a>"
      ]
    },
    {
      "cell_type": "markdown",
      "metadata": {
        "id": "HiJSS8Gr4upm",
        "colab_type": "text"
      },
      "source": [
        "### My Solution to Fivethirtyeights 'How Long is the Snails Slimy Trail' Problem\n",
        "\n",
        "From: https://fivethirtyeight.com/features/how-long-is-the-snails-slimy-trail/\n",
        "*Six snails are situated at the corners of a regular hexagon whose sides are all 10 meters. Each snail is determined to reach its clockwise neighbor, and they all travel at the same speed. But keep in mind that as each snail moves along, slowly but surely, the snail it’s traveling toward is also moving toward another snail.*\n",
        "\n",
        "*The result is six snails — and six trails of slime — that spiral inward toward the center of the hexagon*\n",
        "\n",
        "\n",
        "\n",
        "\n",
        "\n",
        "\n"
      ]
    },
    {
      "cell_type": "code",
      "metadata": {
        "id": "RUU1KnN2865Z",
        "colab_type": "code",
        "colab": {}
      },
      "source": [
        "import math as m\n",
        "import matplotlib.pyplot as plt\n"
      ],
      "execution_count": 0,
      "outputs": []
    },
    {
      "cell_type": "code",
      "metadata": {
        "id": "LXu2Q3P14cvd",
        "colab_type": "code",
        "colab": {}
      },
      "source": [
        "def create_verticies(l):\n",
        "\n",
        "  a = m.cos(m.radians(60))*l\n",
        "  b = m.sin(m.radians(60))*l\n",
        "\n",
        "  p = []\n",
        "  p.append([0,0])\n",
        "  p.append([-a,b])\n",
        "  p.append([0,2*b])\n",
        "  p.append([l,2*b])\n",
        "  p.append([l+a,b])\n",
        "  p.append([l,0])\n",
        "  #repeat this last verticy as my program processes sides, therefor you need the last side witch is defined by vertex 6->1\n",
        "  p.append([0,0])\n",
        "  return p\n"
      ],
      "execution_count": 0,
      "outputs": []
    },
    {
      "cell_type": "code",
      "metadata": {
        "id": "HMYxCTvNHqUO",
        "colab_type": "code",
        "outputId": "2d4d2f40-0494-4f1d-814f-a49af17cec65",
        "colab": {
          "base_uri": "https://localhost:8080/",
          "height": 265
        }
      },
      "source": [
        "l=10\n",
        "p = create_verticies(l)\n",
        "fig, ax = plt.subplots()\n",
        "ax.axis('equal')\n",
        "h1 = 0.025\n",
        "p1 = p\n",
        "d = 0\n",
        "h0=l\n",
        "\n",
        "#draw the hexagon\n",
        "for i in range(0,len(p)-1):\n",
        "  x1, y1, x2, y2 = p[i][0], p[i][1], p[i+1][0], p[i+1][1]\n",
        "  ax.plot([x1,x2],[y1,y2],'k-')\n",
        "\n",
        "#draw the spirals\n",
        "while h0 > 0.1:\n",
        "  p = p1\n",
        "  p1 = []\n",
        "  d = d + h1\n",
        "  \n",
        "  for i in range(0,len(p)-1):\n",
        "    x1, y1, x2, y2 = p[i][0], p[i][1], p[i+1][0], p[i+1][1]\n",
        "    a0 = x2-x1\n",
        "    b0 = y2-y1\n",
        "    h0 = m.sqrt(a0**2+b0**2)\n",
        "    a1 = a0*h1/h0\n",
        "    b1 = b0*h1/h0\n",
        "    p1.append([x1+a1,y1+b1])\n",
        "\n",
        "    x11, y11 = p1[i][0], p1[i][1]\n",
        "    ax.plot([x1,x11],[y1,y11],'k-')\n",
        "  p1.append(p1[0])\n",
        "\n",
        "\n",
        "\n",
        "  "
      ],
      "execution_count": 23,
      "outputs": [
        {
          "output_type": "display_data",
          "data": {
            "image/png": "[encoded data removed]",
            "text/plain": [
              "<Figure size 432x288 with 1 Axes>"
            ]
          },
          "metadata": {
            "tags": []
          }
        }
      ]
    },
    {
      "cell_type": "code",
      "metadata": {
        "id": "7WHJ9l6pAW-_",
        "colab_type": "code",
        "colab": {}
      },
      "source": [
        "\n",
        "#removing the plots in this section so we can take smaller steps and get a more acurate answer\n",
        "l=10\n",
        "p = create_verticies(l)\n",
        "h1 = 0.00001\n",
        "p1 = p\n",
        "d = 0\n",
        "h0=l\n",
        "while h0 > 0.0001:\n",
        "  p = p1\n",
        "  p1 = []\n",
        "  d = d + h1\n",
        "  \n",
        "  for i in range(0,len(p)-1):\n",
        "    x1, y1, x2, y2 = p[i][0], p[i][1], p[i+1][0], p[i+1][1]\n",
        "    a0 = x2-x1\n",
        "    b0 = y2-y1\n",
        "    h0 = m.sqrt(a0**2+b0**2)\n",
        "    #if h0 < 100*h1: h1 = h0/150\n",
        "    a1 = a0*h1/h0\n",
        "    b1 = b0*h1/h0\n",
        "    p1.append([x1+a1,y1+b1])\n",
        "\n",
        "  p1.append(p1[0])"
      ],
      "execution_count": 0,
      "outputs": []
    },
    {
      "cell_type": "code",
      "metadata": {
        "id": "yy22iMJ3PW4C",
        "colab_type": "code",
        "outputId": "92d5d652-bc99-46c9-ddce-fa8622b6a21d",
        "colab": {
          "base_uri": "https://localhost:8080/",
          "height": 34
        }
      },
      "source": [
        "d"
      ],
      "execution_count": 17,
      "outputs": [
        {
          "output_type": "execute_result",
          "data": {
            "text/plain": [
              "19.999989999412016"
            ]
          },
          "metadata": {
            "tags": []
          },
          "execution_count": 17
        }
      ]
    },
    {
      "cell_type": "markdown",
      "metadata": {
        "id": "5702YlZ5IjZ3",
        "colab_type": "text"
      },
      "source": [
        "#### Workings: \n",
        "\n",
        "![calcs](https://drive.google.com/uc?id=10S2qbqq1XRmjOuVWnBqwchuwdRfS6QB4)"
      ]
    }
  ]
}