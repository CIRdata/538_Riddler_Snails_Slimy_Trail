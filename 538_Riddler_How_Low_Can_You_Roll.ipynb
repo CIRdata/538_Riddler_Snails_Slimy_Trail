{
  "nbformat": 4,
  "nbformat_minor": 0,
  "metadata": {
    "colab": {
      "name": "538_Riddler_How_Low_Can_You_Roll.ipynb",
      "provenance": [],
      "include_colab_link": true
    },
    "kernelspec": {
      "name": "python3",
      "display_name": "Python 3"
    }
  },
  "cells": [
    {
      "cell_type": "markdown",
      "metadata": {
        "id": "view-in-github",
        "colab_type": "text"
      },
      "source": [
        "<a href=\"https://colab.research.google.com/github/CIRdata/538_Riddler_Snails_Slimy_Trail/blob/master/538_Riddler_How_Low_Can_You_Roll.ipynb\" target=\"_parent\"><img src=\"https://colab.research.google.com/assets/colab-badge.svg\" alt=\"Open In Colab\"/></a>"
      ]
    },
    {
      "cell_type": "markdown",
      "metadata": {
        "id": "ATHlrdiSPHcd",
        "colab_type": "text"
      },
      "source": [
        "This is my solution to the fivethirtyeight.com Riddle Classic puzzle: https://fivethirtyeight.com/features/how-low-can-you-roll/\n",
        "\n",
        "*From Ricky Jacobson comes a puzzle of seeing how low you can roll:*\n",
        "\n",
        "*You are given a fair, unweighted 10-sided die with sides labeled 0 to 9 and a sheet of paper to record your score. (If the very notion of a fair 10-sided die bothers you, and you need to know what sort of three-dimensional solid it is, then forget it — you have a random number generator that gives you an integer value from 0 to 9 with equal probability. Your loss — the die was a collector’s item.)*\n",
        "\n",
        "*To start the game, you roll the die. Your current “score” is the number shown, divided by 10. For example, if you were to roll a 7, then your score would be 0.7. Then, you keep rolling the die over and over again. Each time you roll, if the digit shown by the die is less than or equal to the last digit of your score, then that roll becomes the new last digit of your score. Otherwise you just go ahead and roll again. The game ends when you roll a zero.*\n",
        "\n",
        "*For example, suppose you roll the following: 6, 2, 5, 1, 8, 1, 0. After your first roll, your score would be 0.6, After the second, it’s 0.62. You ignore the third roll, since 5 is greater than the current last digit, 2. After the fourth roll, your score is 0.621. You ignore the fifth roll, since 8 is greater than the current last digit, 1. After the sixth roll, your score is 0.6211. And after the seventh roll, the game is over — 0.6211 is your final score.*\n",
        "\n",
        "*What will be your average final score in this game?*"
      ]
    },
    {
      "cell_type": "code",
      "metadata": {
        "id": "efLcsck1h4yD",
        "colab_type": "code",
        "colab": {}
      },
      "source": [
        "import random as r\n",
        "import numpy as np\n"
      ],
      "execution_count": 0,
      "outputs": []
    },
    {
      "cell_type": "code",
      "metadata": {
        "id": "OIvOWj9Kn33l",
        "colab_type": "code",
        "colab": {
          "base_uri": "https://localhost:8080/",
          "height": 35
        },
        "outputId": "f3e02b9a-0a49-4be7-9851-8596299487fe"
      },
      "source": [
        "totalresult = 0\n",
        "runcount=100000000\n",
        "for i in range(0,runcount):\n",
        "  c = 99\n",
        "  result = '0.'\n",
        "  while c != 0:\n",
        "    roll = r.randint(0,9)\n",
        "    if roll <= c:\n",
        "      result = result+str(roll)\n",
        "      c = roll\n",
        "  result = float(result)\n",
        "  totalresult = totalresult+result\n",
        "print(totalresult/float(runcount))\n"
      ],
      "execution_count": 48,
      "outputs": [
        {
          "output_type": "stream",
          "text": [
            "0.47368190828739254\n"
          ],
          "name": "stdout"
        }
      ]
    }
  ]
}